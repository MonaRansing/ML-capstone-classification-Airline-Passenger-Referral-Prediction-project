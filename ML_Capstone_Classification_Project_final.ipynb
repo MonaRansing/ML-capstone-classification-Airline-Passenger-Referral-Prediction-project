{
  "nbformat": 4,
  "nbformat_minor": 0,
  "metadata": {
    "colab": {
      "private_outputs": true,
      "provenance": [],
      "collapsed_sections": [
        "vncDsAP0Gaoa",
        "FJNUwmbgGyua",
        "w6K7xa23Elo4",
        "yQaldy8SH6Dl",
        "mDgbUHAGgjLW",
        "O_i_v8NEhb9l",
        "HhfV-JJviCcP",
        "Y3lxredqlCYt",
        "3RnN4peoiCZX",
        "x71ZqKXriCWQ",
        "7hBIi_osiCS2",
        "JlHwYmJAmNHm",
        "35m5QtbWiB9F",
        "PoPl-ycgm1ru",
        "H0kj-8xxnORC",
        "nA9Y7ga8ng1Z",
        "PBTbrJXOngz2",
        "u3PMJOP6ngxN",
        "dauF4eBmngu3",
        "bKJF3rekwFvQ",
        "MSa1f5Uengrz",
        "GF8Ens_Soomf",
        "0wOQAZs5pc--",
        "K5QZ13OEpz2H",
        "lQ7QKXXCp7Bj",
        "448CDAPjqfQr",
        "KSlN3yHqYklG",
        "t6dVpIINYklI",
        "ijmpgYnKYklI",
        "-JiQyfWJYklI",
        "EM7whBJCYoAo",
        "fge-S5ZAYoAp",
        "85gYPyotYoAp",
        "RoGjAbkUYoAp",
        "4Of9eVA-YrdM",
        "iky9q4vBYrdO",
        "F6T5p64dYrdO",
        "y-Ehk30pYrdP",
        "bamQiAODYuh1",
        "QHF8YVU7Yuh3",
        "GwzvFGzlYuh3",
        "qYpmQ266Yuh3",
        "OH-pJp9IphqM",
        "bbFf2-_FphqN",
        "_ouA3fa0phqN",
        "Seke61FWphqN",
        "PIIx-8_IphqN",
        "t27r6nlMphqO",
        "r2jJGEOYphqO",
        "b0JNsNcRphqO",
        "BZR9WyysphqO",
        "jj7wYXLtphqO",
        "eZrbJ2SmphqO",
        "rFu4xreNphqO",
        "YJ55k-q6phqO",
        "gCFgpxoyphqP",
        "OVtJsKN_phqQ",
        "lssrdh5qphqQ",
        "U2RJ9gkRphqQ",
        "1M8mcRywphqQ",
        "tgIPom80phqQ",
        "JMzcOPDDphqR",
        "x-EpHcCOp1ci",
        "X_VqEhTip1ck",
        "8zGJKyg5p1ck",
        "PVzmfK_Ep1ck",
        "n3dbpmDWp1ck",
        "ylSl6qgtp1ck",
        "ZWILFDl5p1ck",
        "M7G43BXep1ck",
        "Ag9LCva-p1cl",
        "E6MkPsBcp1cl",
        "2cELzS2fp1cl",
        "3MPXvC8up1cl",
        "NC_X3p0fY2L0",
        "UV0SzAkaZNRQ",
        "YPEH6qLeZNRQ",
        "q29F0dvdveiT",
        "EXh0U9oCveiU",
        "22aHeOlLveiV",
        "g-ATYxFrGrvw",
        "Yfr_Vlr8HBkt",
        "8yEUt7NnHlrM",
        "tEA2Xm5dHt1r",
        "I79__PHVH19G",
        "Ou-I18pAyIpj",
        "fF3858GYyt-u",
        "4_0_7-oCpUZd",
        "hwyV_J3ipUZe",
        "3yB-zSqbpUZe",
        "dEUvejAfpUZe",
        "Fd15vwWVpUZf",
        "bn_IUdTipZyH",
        "49K5P_iCpZyH",
        "Nff-vKELpZyI",
        "kLW572S8pZyI",
        "dWbDXHzopZyI",
        "yLjJCtPM0KBk",
        "xiyOF9F70UgQ",
        "7wuGOrhz0itI",
        "id1riN9m0vUs",
        "578E2V7j08f6",
        "89xtkJwZ18nB",
        "67NQN5KX2AMe",
        "Iwf50b-R2tYG",
        "GMQiZwjn3iu7",
        "WVIkgGqN3qsr",
        "XkPnILGE3zoT",
        "Hlsf0x5436Go",
        "mT9DMSJo4nBL",
        "c49ITxTc407N",
        "OeJFEK0N496M",
        "9ExmJH0g5HBk",
        "cJNqERVU536h",
        "k5UmGsbsOxih",
        "T0VqWOYE6DLQ",
        "qBMux9mC6MCf",
        "-oLEiFgy-5Pf",
        "C74aWNz2AliB",
        "2DejudWSA-a0",
        "pEMng2IbBLp7",
        "rAdphbQ9Bhjc",
        "TNVZ9zx19K6k",
        "nqoHp30x9hH9",
        "rMDnDkt2B6du",
        "yiiVWRdJDDil",
        "1UUpS68QDMuG",
        "kexQrXU-DjzY",
        "T5CmagL3EC8N",
        "BhH2vgX9EjGr",
        "qjKvONjwE8ra",
        "P1XJ9OREExlT",
        "VFOzZv6IFROw",
        "TIqpNgepFxVj",
        "VfCC591jGiD4",
        "OB4l2ZhMeS1U",
        "ArJBuiUVfxKd",
        "4qY1EAkEfxKe",
        "PiV4Ypx8fxKe",
        "TfvqoZmBfxKf",
        "dJ2tPlVmpsJ0",
        "JWYfwnehpsJ1",
        "-jK_YjpMpsJ2",
        "HAih1iBOpsJ2",
        "zVGeBEFhpsJ2",
        "bmKjuQ-FpsJ3",
        "Fze-IPXLpx6K",
        "7AN1z2sKpx6M",
        "9PIHJqyupx6M",
        "_-qAgymDpx6N",
        "Z-hykwinpx6N",
        "h_CCil-SKHpo",
        "cBFFvTBNJzUa",
        "HvGl1hHyA_VK",
        "EyNgTHvd2WFk",
        "KH5McJBi2d8v",
        "iW_Lq9qf2h6X",
        "-Kee-DAl2viO",
        "gCX9965dhzqZ",
        "gIfDvo9L0UH2"
      ],
      "include_colab_link": true
    },
    "kernelspec": {
      "name": "python3",
      "display_name": "Python 3"
    },
    "language_info": {
      "name": "python"
    }
  },
  "cells": [
    {
      "cell_type": "markdown",
      "metadata": {
        "id": "view-in-github",
        "colab_type": "text"
      },
      "source": [
        "<a href=\"https://colab.research.google.com/github/MonaRansing/ML-capstone-classification-Airline-Passenger-Referral-Prediction-project/blob/main/ML_Capstone_Classification_Project_final.ipynb\" target=\"_parent\"><img src=\"https://colab.research.google.com/assets/colab-badge.svg\" alt=\"Open In Colab\"/></a>"
      ]
    },
    {
      "cell_type": "markdown",
      "source": [
        "# **Project Name**    - **Airline Passenger Referral Prediction**\n",
        "\n"
      ],
      "metadata": {
        "id": "vncDsAP0Gaoa"
      }
    },
    {
      "cell_type": "markdown",
      "source": [
        "##### **Project Type**    - Classification"
      ],
      "metadata": {
        "id": "beRrZCGUAJYm"
      }
    },
    {
      "cell_type": "markdown",
      "source": [
        "# **Project Summary -**"
      ],
      "metadata": {
        "id": "FJNUwmbgGyua"
      }
    },
    {
      "cell_type": "markdown",
      "source": [
        "This project aims to predict whether passengers will recommend an airline to their friends using airline review data collected from 2006 to 2019. The dataset includes both multiple-choice and free-text responses. To achieve this, we will perform extensive exploratory data analysis (EDA) to understand patterns and trends in the data. We will then implement various classification algorithms, including Logistic Regression, Decision Trees, Naive Bayes, Support Vector Machines (SVM), and Random Forests. The performance of these models will be evaluated to determine the most effective method for predicting passenger recommendations. The goal is to provide insights that airlines can use to improve customer satisfaction and referral rates."
      ],
      "metadata": {
        "id": "F6v_1wHtG2nS"
      }
    },
    {
      "cell_type": "markdown",
      "source": [
        "# **GitHub Link -**"
      ],
      "metadata": {
        "id": "w6K7xa23Elo4"
      }
    },
    {
      "cell_type": "markdown",
      "source": [
        "https://github.com/MonaRansing/ML-capstone-classification-Airline-Passenger-Referral-Prediction-project.git"
      ],
      "metadata": {
        "id": "h1o69JH3Eqqn"
      }
    },
    {
      "cell_type": "markdown",
      "source": [
        "# **Problem Statement**\n"
      ],
      "metadata": {
        "id": "yQaldy8SH6Dl"
      }
    },
    {
      "cell_type": "markdown",
      "source": [
        "**Data includes airline reviews from 2006 to 2019 for popular airlines around the world with multiple choice and free text questions. Data is scraped in Spring 2019. The main objective is to predict whether passengers will refer the airline to their friends.**"
      ],
      "metadata": {
        "id": "DpeJGUA3kjGy"
      }
    },
    {
      "cell_type": "markdown",
      "source": [
        "# **General Guidelines** : -  "
      ],
      "metadata": {
        "id": "mDgbUHAGgjLW"
      }
    },
    {
      "cell_type": "markdown",
      "source": [
        "1.   Well-structured, formatted, and commented code is required.\n",
        "2.   Exception Handling, Production Grade Code & Deployment Ready Code will be a plus. Those students will be awarded some additional credits.\n",
        "     \n",
        "     The additional credits will have advantages over other students during Star Student selection.\n",
        "       \n",
        "             [ Note: - Deployment Ready Code is defined as, the whole .ipynb notebook should be executable in one go\n",
        "                       without a single error logged. ]\n",
        "\n",
        "3.   Each and every logic should have proper comments.\n",
        "4. You may add as many number of charts you want. Make Sure for each and every chart the following format should be answered.\n",
        "        \n",
        "\n",
        "```\n",
        "# Chart visualization code\n",
        "```\n",
        "            \n",
        "\n",
        "*   Why did you pick the specific chart?\n",
        "*   What is/are the insight(s) found from the chart?\n",
        "* Will the gained insights help creating a positive business impact?\n",
        "Are there any insights that lead to negative growth? Justify with specific reason.\n",
        "\n",
        "5. You have to create at least 15 logical & meaningful charts having important insights.\n",
        "\n",
        "\n",
        "[ Hints : - Do the Vizualization in  a structured way while following \"UBM\" Rule.\n",
        "\n",
        "U - Univariate Analysis,\n",
        "\n",
        "B - Bivariate Analysis (Numerical - Categorical, Numerical - Numerical, Categorical - Categorical)\n",
        "\n",
        "M - Multivariate Analysis\n",
        " ]\n",
        "\n",
        "\n",
        "\n",
        "\n",
        "\n",
        "6. You may add more ml algorithms for model creation. Make sure for each and every algorithm, the following format should be answered.\n",
        "\n",
        "\n",
        "*   Explain the ML Model used and it's performance using Evaluation metric Score Chart.\n",
        "\n",
        "\n",
        "*   Cross- Validation & Hyperparameter Tuning\n",
        "\n",
        "*   Have you seen any improvement? Note down the improvement with updates Evaluation metric Score Chart.\n",
        "\n",
        "*   Explain each evaluation metric's indication towards business and the business impact pf the ML model used.\n",
        "\n",
        "\n",
        "\n",
        "\n",
        "\n",
        "\n",
        "\n",
        "\n",
        "\n",
        "\n",
        "\n",
        "\n",
        "\n",
        "\n",
        "\n",
        "\n",
        "\n",
        "\n"
      ],
      "metadata": {
        "id": "ZrxVaUj-hHfC"
      }
    },
    {
      "cell_type": "markdown",
      "source": [
        "# ***Let's Begin !***"
      ],
      "metadata": {
        "id": "O_i_v8NEhb9l"
      }
    },
    {
      "cell_type": "markdown",
      "source": [
        "## ***Know Your Data***"
      ],
      "metadata": {
        "id": "HhfV-JJviCcP"
      }
    },
    {
      "cell_type": "markdown",
      "source": [
        "### Import Libraries"
      ],
      "metadata": {
        "id": "Y3lxredqlCYt"
      }
    },
    {
      "cell_type": "code",
      "source": [
        "# Import Libraries\n",
        "# Import Libraries\n",
        "# Data manipulation and numerical operations\n",
        "import pandas as pd\n",
        "import numpy as np\n",
        "\n",
        "# Data visualization libraries\n",
        "import matplotlib.pyplot as plt\n",
        "import seaborn as sns\n",
        "\n",
        "# machine learning algorithms and preprocessing\n",
        "from sklearn.model_selection import train_test_split\n",
        "from sklearn.linear_model import LogisticRegression\n",
        "from sklearn.tree import DecisionTreeClassifier\n",
        "from sklearn.ensemble import RandomForestClassifier\n",
        "from sklearn.naive_bayes import GaussianNB, MultinomialNB\n",
        "from sklearn.svm import SVC, LinearSVC\n",
        "import time\n",
        "from sklearn.model_selection import GridSearchCV\n",
        "from sklearn.model_selection import cross_val_score\n",
        "from sklearn.neighbors import KNeighborsClassifier\n",
        "from sklearn.preprocessing import StandardScaler, OneHotEncoder, LabelEncoder\n",
        "from sklearn.metrics import mean_squared_error, mean_absolute_error, r2_score\n",
        "from sklearn.pipeline import Pipeline\n",
        "from sklearn.compose import ColumnTransformer\n",
        "from sklearn.metrics import accuracy_score, confusion_matrix, classification_report, precision_score, recall_score, f1_score\n",
        "from sklearn.metrics import roc_curve, auc, roc_auc_score\n",
        "from scipy import stats\n",
        "from scipy.stats import f_oneway\n",
        "from scipy.stats import ttest_ind\n",
        "\n",
        "\n",
        "# Ignore warnings\n",
        "import warnings\n",
        "warnings.filterwarnings('ignore')\n",
        "\n",
        "# For statistical models and tests\n",
        "import statsmodels.api as sm\n",
        "from statsmodels.stats.outliers_influence import variance_inflation_factor"
      ],
      "metadata": {
        "id": "M8Vqi-pPk-HR"
      },
      "execution_count": null,
      "outputs": []
    },
    {
      "cell_type": "markdown",
      "source": [
        "### Dataset Loading"
      ],
      "metadata": {
        "id": "3RnN4peoiCZX"
      }
    },
    {
      "cell_type": "code",
      "source": [
        "# Load Dataset\n",
        "from google.colab import drive\n",
        "drive.mount('/content/drive')"
      ],
      "metadata": {
        "id": "4CkvbW_SlZ_R"
      },
      "execution_count": null,
      "outputs": []
    },
    {
      "cell_type": "code",
      "source": [
        "# Read dataset\n",
        "dataset = pd.read_excel('/content/drive/MyDrive/Almabetter/Data Science/dataset/data_airline_reviews.xlsx')\n",
        "airline_df = dataset.copy()"
      ],
      "metadata": {
        "id": "iPjPaDcK3210"
      },
      "execution_count": null,
      "outputs": []
    },
    {
      "cell_type": "markdown",
      "source": [
        "### Dataset First View"
      ],
      "metadata": {
        "id": "x71ZqKXriCWQ"
      }
    },
    {
      "cell_type": "code",
      "source": [
        "# Dataset First Look\n",
        "airline_df.head()"
      ],
      "metadata": {
        "id": "LWNFOSvLl09H"
      },
      "execution_count": null,
      "outputs": []
    },
    {
      "cell_type": "code",
      "source": [
        "airline_df.tail()"
      ],
      "metadata": {
        "id": "sUXRrqbf48jo"
      },
      "execution_count": null,
      "outputs": []
    },
    {
      "cell_type": "markdown",
      "source": [
        "### Dataset Rows & Columns count"
      ],
      "metadata": {
        "id": "7hBIi_osiCS2"
      }
    },
    {
      "cell_type": "code",
      "source": [
        "# Dataset Rows & Columns count\n",
        "airline_df.shape"
      ],
      "metadata": {
        "id": "Kllu7SJgmLij"
      },
      "execution_count": null,
      "outputs": []
    },
    {
      "cell_type": "code",
      "source": [
        "airline_df.columns"
      ],
      "metadata": {
        "id": "2OQ9gh7A539V"
      },
      "execution_count": null,
      "outputs": []
    },
    {
      "cell_type": "markdown",
      "source": [
        "### Dataset Information"
      ],
      "metadata": {
        "id": "JlHwYmJAmNHm"
      }
    },
    {
      "cell_type": "code",
      "source": [
        "# Dataset Info\n",
        "airline_df.info()"
      ],
      "metadata": {
        "id": "e9hRXRi6meOf"
      },
      "execution_count": null,
      "outputs": []
    },
    {
      "cell_type": "markdown",
      "source": [
        "#### Duplicate Values"
      ],
      "metadata": {
        "id": "35m5QtbWiB9F"
      }
    },
    {
      "cell_type": "code",
      "source": [
        "# Dataset Duplicate Value Count\n",
        "duplicate_values  = airline_df.duplicated().sum()\n",
        "print(\"Number of duplicate values:\", duplicate_values)"
      ],
      "metadata": {
        "id": "1sLdpKYkmox0"
      },
      "execution_count": null,
      "outputs": []
    },
    {
      "cell_type": "markdown",
      "source": [
        "#### Missing Values/Null Values"
      ],
      "metadata": {
        "id": "PoPl-ycgm1ru"
      }
    },
    {
      "cell_type": "code",
      "source": [
        "# Missing Values/Null Values Count\n",
        "missing_values = airline_df.isnull().sum()\n",
        "print(\"Missing values:\\n\", missing_values)"
      ],
      "metadata": {
        "id": "GgHWkxvamxVg"
      },
      "execution_count": null,
      "outputs": []
    },
    {
      "cell_type": "code",
      "source": [
        "# Visualizing the missing values\n",
        "plt.figure(figsize=(10, 6))\n",
        "sns.barplot(x=airline_df.columns, y=airline_df.isnull().sum(), palette=sns.color_palette('rainbow'))\n",
        "plt.title('Missing Values')\n",
        "plt.xlabel('Columns')\n",
        "plt.ylabel('Count')\n",
        "plt.xticks(rotation=90)\n",
        "plt.show()"
      ],
      "metadata": {
        "id": "3q5wnI3om9sJ"
      },
      "execution_count": null,
      "outputs": []
    },
    {
      "cell_type": "markdown",
      "source": [
        "### What did you know about your dataset?"
      ],
      "metadata": {
        "id": "H0kj-8xxnORC"
      }
    },
    {
      "cell_type": "markdown",
      "source": [
        "Answer : In the given dataset have 131895 rows and 17 columns. There are 70711 duplicates values and also there are missing values in the dataset."
      ],
      "metadata": {
        "id": "gfoNAAC-nUe_"
      }
    },
    {
      "cell_type": "markdown",
      "source": [
        "## ***Understanding Your Variables***"
      ],
      "metadata": {
        "id": "nA9Y7ga8ng1Z"
      }
    },
    {
      "cell_type": "code",
      "source": [
        "# Dataset Columns\n",
        "airline_df.columns"
      ],
      "metadata": {
        "id": "j7xfkqrt5Ag5"
      },
      "execution_count": null,
      "outputs": []
    },
    {
      "cell_type": "code",
      "source": [
        "# Dataset Describe\n",
        "airline_df.describe()"
      ],
      "metadata": {
        "id": "DnOaZdaE5Q5t"
      },
      "execution_count": null,
      "outputs": []
    },
    {
      "cell_type": "markdown",
      "source": [
        "### Variables Description"
      ],
      "metadata": {
        "id": "PBTbrJXOngz2"
      }
    },
    {
      "cell_type": "markdown",
      "source": [
        "* **airline** : Name of the airline.\n",
        "* **overall** : Overall points are given to the trip between 1 to 10.\n",
        "* **aothir** : Author of the trip.\n",
        "* **reviewdate** : date of the review customer.\n",
        "* **aircraft** : type of the aircraft.\n",
        "* **travellertype** : Type of the traveler(e.g business, leisure).\n",
        "* **Flight date** : Cabin at the flight date flown.\n",
        "* **cabin service** : Rated between 1-5.\n",
        "* **foodbev** : Rated between 1-5.\n",
        "* **entertainment** : Rated between 1-5.\n",
        "* **groundservice** : Rated between 1-5.\n",
        "* **valueformoney** : Rated between 1-5\n",
        "* **recommended** : Binary, target variable."
      ],
      "metadata": {
        "id": "aJV4KIxSnxay"
      }
    },
    {
      "cell_type": "markdown",
      "source": [
        "### Check Unique Values for each variable."
      ],
      "metadata": {
        "id": "u3PMJOP6ngxN"
      }
    },
    {
      "cell_type": "code",
      "source": [
        "# Check Unique Values for each variable.\n",
        "airline_df.nunique()"
      ],
      "metadata": {
        "id": "zms12Yq5n-jE"
      },
      "execution_count": null,
      "outputs": []
    },
    {
      "cell_type": "markdown",
      "source": [
        "## ***Data Wrangling***"
      ],
      "metadata": {
        "id": "dauF4eBmngu3"
      }
    },
    {
      "cell_type": "markdown",
      "source": [
        "### Data Wrangling Code"
      ],
      "metadata": {
        "id": "bKJF3rekwFvQ"
      }
    },
    {
      "cell_type": "code",
      "source": [
        "# Write your code to make your dataset analysis ready.\n",
        "duplicate_values  = airline_df.duplicated().sum()\n",
        "print(\"Number of duplicate values:\", duplicate_values)"
      ],
      "metadata": {
        "id": "wk-9a2fpoLcV"
      },
      "execution_count": null,
      "outputs": []
    },
    {
      "cell_type": "code",
      "source": [
        "# drop duplicate\n",
        "airline_df.drop_duplicates(inplace=True)"
      ],
      "metadata": {
        "id": "ptqpQ3Pr_pBc"
      },
      "execution_count": null,
      "outputs": []
    },
    {
      "cell_type": "code",
      "source": [
        "duplicate_values  = airline_df.duplicated().sum()\n",
        "print(\"Number of duplicate values:\", duplicate_values)"
      ],
      "metadata": {
        "id": "AxskM7AZVrHN"
      },
      "execution_count": null,
      "outputs": []
    },
    {
      "cell_type": "code",
      "source": [
        "# checking missing values\n",
        "airline_df.isnull().sum()"
      ],
      "metadata": {
        "id": "Y_fl3Cn2Vxdc"
      },
      "execution_count": null,
      "outputs": []
    },
    {
      "cell_type": "markdown",
      "source": [
        "### What all manipulations have you done and insights you found?"
      ],
      "metadata": {
        "id": "MSa1f5Uengrz"
      }
    },
    {
      "cell_type": "markdown",
      "source": [
        "Answer : Here I droped duplicate values from the dataset after that I checked missing value."
      ],
      "metadata": {
        "id": "LbyXE7I1olp8"
      }
    },
    {
      "cell_type": "markdown",
      "source": [
        "## ***Data Vizualization, Storytelling & Experimenting with charts : Understand the relationships between variables***"
      ],
      "metadata": {
        "id": "GF8Ens_Soomf"
      }
    },
    {
      "cell_type": "markdown",
      "source": [
        "#### Chart - 1 : Top 10 airlines which have higher ratings?"
      ],
      "metadata": {
        "id": "0wOQAZs5pc--"
      }
    },
    {
      "cell_type": "code",
      "source": [
        "# top airlines which have higher ratings\n",
        "top_airlines = airline_df.groupby('airline')['overall'].mean().sort_values(ascending=False).head(10)\n",
        "print(top_airlines)"
      ],
      "metadata": {
        "id": "Mux69oSSZm-y"
      },
      "execution_count": null,
      "outputs": []
    },
    {
      "cell_type": "code",
      "source": [
        "plt.figure(figsize=(10, 6))\n",
        "sns.barplot(x='airline', y='overall', data=airline_df, order=top_airlines.index, palette=sns.color_palette('rainbow'))\n",
        "plt.title('Overall Ratings Across Airlines')\n",
        "plt.xlabel('Airline')\n",
        "plt.ylabel('Overall Rating')\n",
        "plt.xticks(rotation=90)\n",
        "plt.show()"
      ],
      "metadata": {
        "id": "XqJsuM3sZuQn"
      },
      "execution_count": null,
      "outputs": []
    },
    {
      "cell_type": "markdown",
      "source": [
        "##### 1. Why did you pick the specific chart?"
      ],
      "metadata": {
        "id": "K5QZ13OEpz2H"
      }
    },
    {
      "cell_type": "markdown",
      "source": [
        "Answer : I used barplot because barplot is easy to understand."
      ],
      "metadata": {
        "id": "XESiWehPqBRc"
      }
    },
    {
      "cell_type": "markdown",
      "source": [
        "##### 2. What is/are the insight(s) found from the chart?"
      ],
      "metadata": {
        "id": "lQ7QKXXCp7Bj"
      }
    },
    {
      "cell_type": "markdown",
      "source": [
        "Answer : From the above chart we can see that top 10 airlines which have higher rating and the Garuda Indonesia airline is the top most airline which have highest rating."
      ],
      "metadata": {
        "id": "C_j1G7yiqdRP"
      }
    },
    {
      "cell_type": "markdown",
      "source": [
        "##### 3. Will the gained insights help creating a positive business impact?\n",
        "Are there any insights that lead to negative growth? Justify with specific reason."
      ],
      "metadata": {
        "id": "448CDAPjqfQr"
      }
    },
    {
      "cell_type": "markdown",
      "source": [
        "Answer : Yes, the above insight has positive impact on business. The airlines which have lower ratings they can follow the airlines which have higher ratings."
      ],
      "metadata": {
        "id": "3cspy4FjqxJW"
      }
    },
    {
      "cell_type": "code",
      "source": [
        "airline_df.columns"
      ],
      "metadata": {
        "id": "pPginoXIdOZT"
      },
      "execution_count": null,
      "outputs": []
    },
    {
      "cell_type": "markdown",
      "source": [
        "#### Chart - 2 : Which 'traveller_type' has the most reviews?"
      ],
      "metadata": {
        "id": "KSlN3yHqYklG"
      }
    },
    {
      "cell_type": "code",
      "source": [
        "# find out traveller type which has the most review\n",
        "traveller_type_counts = airline_df['traveller_type'].value_counts()\n",
        "print(traveller_type_counts)"
      ],
      "metadata": {
        "id": "cWSTsoeuc50i"
      },
      "execution_count": null,
      "outputs": []
    },
    {
      "cell_type": "code",
      "source": [
        "# visualize traveller type count using barplot\n",
        "plt.figure(figsize=(8,4))\n",
        "sns.barplot(x=traveller_type_counts.index, y=traveller_type_counts, palette=sns.color_palette('rainbow'))\n",
        "plt.title('Traveller Type Count')\n",
        "plt.xlabel('Traveller Type')\n",
        "plt.ylabel('Count')\n",
        "plt.show()"
      ],
      "metadata": {
        "id": "-JXU7mOBdUQ6"
      },
      "execution_count": null,
      "outputs": []
    },
    {
      "cell_type": "markdown",
      "source": [
        "##### 1. Why did you pick the specific chart?"
      ],
      "metadata": {
        "id": "t6dVpIINYklI"
      }
    },
    {
      "cell_type": "markdown",
      "source": [
        "Answer : A bar plot is used because it effectively visualizes and compares the frequency or count of categorical data."
      ],
      "metadata": {
        "id": "5aaW0BYyYklI"
      }
    },
    {
      "cell_type": "markdown",
      "source": [
        "##### 2. What is/are the insight(s) found from the chart?"
      ],
      "metadata": {
        "id": "ijmpgYnKYklI"
      }
    },
    {
      "cell_type": "markdown",
      "source": [
        "Answer : According to above barplot we can see that solo leisure traveller type has highest ratings and the business traveller type has lowest ratings."
      ],
      "metadata": {
        "id": "PSx9atu2YklI"
      }
    },
    {
      "cell_type": "markdown",
      "source": [
        "#### Chart - 3 : Which 'cabin' class has the most reviews?"
      ],
      "metadata": {
        "id": "EM7whBJCYoAo"
      }
    },
    {
      "cell_type": "code",
      "source": [
        "# find out cabin class which has highest review\n",
        "cabin_class_counts = airline_df['cabin'].value_counts()\n",
        "print(cabin_class_counts)"
      ],
      "metadata": {
        "id": "t6GMdE67YoAp"
      },
      "execution_count": null,
      "outputs": []
    },
    {
      "cell_type": "code",
      "source": [
        "# visualize cabin class count\n",
        "plt.figure(figsize=(8,4))\n",
        "sns.barplot(x=cabin_class_counts.index, y=cabin_class_counts, palette=sns.color_palette('rainbow'))\n",
        "plt.title('Cabin Class Count')\n",
        "plt.xlabel('Cabin Class')\n",
        "plt.ylabel('Count')\n",
        "plt.show()"
      ],
      "metadata": {
        "id": "T5D6dw6DeWZO"
      },
      "execution_count": null,
      "outputs": []
    },
    {
      "cell_type": "markdown",
      "source": [
        "##### 1. Why did you pick the specific chart?"
      ],
      "metadata": {
        "id": "fge-S5ZAYoAp"
      }
    },
    {
      "cell_type": "markdown",
      "source": [
        "Answer : A bar plot is used because it effectively visualizes and compares the frequency or count of categorical data."
      ],
      "metadata": {
        "id": "5dBItgRVYoAp"
      }
    },
    {
      "cell_type": "markdown",
      "source": [
        "##### 2. What is/are the insight(s) found from the chart?"
      ],
      "metadata": {
        "id": "85gYPyotYoAp"
      }
    },
    {
      "cell_type": "markdown",
      "source": [
        "Answer : From above chart we can see that economy class has the highest review count and first calss has the lowest count."
      ],
      "metadata": {
        "id": "4jstXR6OYoAp"
      }
    },
    {
      "cell_type": "markdown",
      "source": [
        "##### 3. Will the gained insights help creating a positive business impact?\n",
        "Are there any insights that lead to negative growth? Justify with specific reason."
      ],
      "metadata": {
        "id": "RoGjAbkUYoAp"
      }
    },
    {
      "cell_type": "markdown",
      "source": [
        "Answer : The insight that the economy class receives the most reviews suggests a positive business impact, as it reflects a high level of customer engagement and interest. However, if first-class reviews consistently indicate dissatisfaction, it could lead to negative growth by deterring potential customers and impacting revenue in that segment, necessitating prompt attention to address any identified issues."
      ],
      "metadata": {
        "id": "zfJ8IqMcYoAp"
      }
    },
    {
      "cell_type": "markdown",
      "source": [
        "#### Chart - 4 : Top 10 'author' who has written the most reviews?\n"
      ],
      "metadata": {
        "id": "4Of9eVA-YrdM"
      }
    },
    {
      "cell_type": "code",
      "source": [
        "# count the reviews by authe\n",
        "author_reviews = airline_df['author'].value_counts().head(10)\n",
        "print(author_reviews)"
      ],
      "metadata": {
        "id": "M1e1fiBC6u2A"
      },
      "execution_count": null,
      "outputs": []
    },
    {
      "cell_type": "code",
      "source": [
        "#visualize using bar plot\n",
        "plt.figure(figsize=(8,4))\n",
        "sns.barplot(x='author', y='overall', data=airline_df, order=author_reviews.index, palette=sns.color_palette('rainbow'))\n",
        "plt.title('Overall Ratings Across Airlines')\n",
        "plt.xlabel('Airline')\n",
        "plt.ylabel('Overall Rating')\n",
        "plt.xticks(rotation=90)\n",
        "plt.show()"
      ],
      "metadata": {
        "id": "VvMvcQXb7d8l"
      },
      "execution_count": null,
      "outputs": []
    },
    {
      "cell_type": "markdown",
      "source": [
        "##### 1. Why did you pick the specific chart?"
      ],
      "metadata": {
        "id": "iky9q4vBYrdO"
      }
    },
    {
      "cell_type": "markdown",
      "source": [
        "Answer : A bar plot is used because it effectively visualizes and compares the frequency or count of categorical data."
      ],
      "metadata": {
        "id": "aJRCwT6DYrdO"
      }
    },
    {
      "cell_type": "markdown",
      "source": [
        "##### 2. What is/are the insight(s) found from the chart?"
      ],
      "metadata": {
        "id": "F6T5p64dYrdO"
      }
    },
    {
      "cell_type": "markdown",
      "source": [
        "Answer : From above graph we can see the top 10 authors who has written most reviws and the Anders Pedersen is the top most author."
      ],
      "metadata": {
        "id": "Xx8WAJvtYrdO"
      }
    },
    {
      "cell_type": "markdown",
      "source": [
        "#### Chart - 5 : What is the proportion of positive (recommended) vs. negative (not recommended) reviews?\n"
      ],
      "metadata": {
        "id": "OH-pJp9IphqM"
      }
    },
    {
      "cell_type": "code",
      "source": [
        "# Calculate the number of recommended and not recommended reviews\n",
        "recommendation_counts = airline_df['recommended'].value_counts()\n",
        "\n",
        "# Calculate proportions\n",
        "proportions = recommendation_counts / recommendation_counts.sum()\n",
        "\n",
        "recommendation_counts, proportions"
      ],
      "metadata": {
        "id": "smvVBeUu-b1t"
      },
      "execution_count": null,
      "outputs": []
    },
    {
      "cell_type": "code",
      "source": [
        "plt.figure(figsize=(8, 6))\n",
        "plt.pie(proportions, labels=proportions.index, autopct='%1.1f%%', startangle=90, colors=['#66b3ff','#ff9999'])\n",
        "plt.title('Proportion of Recommended vs. Not Recommended Reviews')\n",
        "plt.legend(loc='lower left')\n",
        "plt.axis('equal')\n",
        "plt.show()"
      ],
      "metadata": {
        "id": "g6Mr9WJP-iN_"
      },
      "execution_count": null,
      "outputs": []
    },
    {
      "cell_type": "markdown",
      "source": [
        "##### 1. Why did you pick the specific chart?"
      ],
      "metadata": {
        "id": "bbFf2-_FphqN"
      }
    },
    {
      "cell_type": "markdown",
      "source": [
        "Answer : A pie chart is used to visually represent the proportions of different categories within a whole, making it easy to compare the relative sizes of these categories at a glance."
      ],
      "metadata": {
        "id": "loh7H2nzphqN"
      }
    },
    {
      "cell_type": "markdown",
      "source": [
        "##### 2. What is/are the insight(s) found from the chart?"
      ],
      "metadata": {
        "id": "_ouA3fa0phqN"
      }
    },
    {
      "cell_type": "markdown",
      "source": [
        "Answer : From the above pie chart we can see thet there are 47.7 % reviws are positive and 52.3% reviwes are negative."
      ],
      "metadata": {
        "id": "VECbqPI7phqN"
      }
    },
    {
      "cell_type": "markdown",
      "source": [
        "##### 3. Will the gained insights help creating a positive business impact?\n",
        "Are there any insights that lead to negative growth? Justify with specific reason."
      ],
      "metadata": {
        "id": "Seke61FWphqN"
      }
    },
    {
      "cell_type": "markdown",
      "source": [
        "Answer : The insights from the pie chart showing that 47.7% of reviews are positive and 52.3% are negative indicate that the majority of customer feedback is not favorable. This negative sentiment can hinder business growth by potentially deterring new customers and diminishing brand reputation. Addressing the issues highlighted in negative reviews could help improve customer satisfaction and drive positive business impact."
      ],
      "metadata": {
        "id": "DW4_bGpfphqN"
      }
    },
    {
      "cell_type": "markdown",
      "source": [
        "#### Chart - 6 : What are the top 10 most common routes in the dataset?\n"
      ],
      "metadata": {
        "id": "PIIx-8_IphqN"
      }
    },
    {
      "cell_type": "code",
      "source": [
        "# # Calculate top 10 most common routes\n",
        "top_routes = airline_df['route'].value_counts().head(10)\n",
        "print(top_routes)"
      ],
      "metadata": {
        "id": "lqAIGUfyphqO"
      },
      "execution_count": null,
      "outputs": []
    },
    {
      "cell_type": "code",
      "source": [
        "# Create a bar plot\n",
        "plt.figure(figsize=(10, 6))\n",
        "sns.barplot(x=top_routes.index, y=top_routes, palette=sns.color_palette('pastel'))\n",
        "plt.title('Top 10 Most Common Routes')\n",
        "plt.xlabel('Route')\n",
        "plt.ylabel('Count')\n",
        "plt.xticks(rotation=90)\n",
        "plt.show()"
      ],
      "metadata": {
        "id": "seNO4k2dBL2e"
      },
      "execution_count": null,
      "outputs": []
    },
    {
      "cell_type": "markdown",
      "source": [
        "##### 1. Why did you pick the specific chart?"
      ],
      "metadata": {
        "id": "t27r6nlMphqO"
      }
    },
    {
      "cell_type": "markdown",
      "source": [
        "Answer : I used barplot because bar plot is useful for visualization because it effectively compares the quantities of different categories, making it easy to see differences and trends across groups."
      ],
      "metadata": {
        "id": "iv6ro40sphqO"
      }
    },
    {
      "cell_type": "markdown",
      "source": [
        "##### 2. What is/are the insight(s) found from the chart?"
      ],
      "metadata": {
        "id": "r2jJGEOYphqO"
      }
    },
    {
      "cell_type": "markdown",
      "source": [
        "Answer : We can see that BKK to LHR is the most common route."
      ],
      "metadata": {
        "id": "Po6ZPi4hphqO"
      }
    },
    {
      "cell_type": "markdown",
      "source": [
        "#### Chart - 7 : What is the distribution of 'food_bev' ratings?\n"
      ],
      "metadata": {
        "id": "BZR9WyysphqO"
      }
    },
    {
      "cell_type": "code",
      "source": [
        "# Calculate food_bev ratings\n",
        "food_bev_ratings = airline_df['food_bev'].value_counts()\n",
        "print(food_bev_ratings)"
      ],
      "metadata": {
        "id": "TdPTWpAVphqO"
      },
      "execution_count": null,
      "outputs": []
    },
    {
      "cell_type": "code",
      "source": [
        "plt.figure(figsize=(10, 6))\n",
        "sns.barplot(x=food_bev_ratings.index, y=food_bev_ratings, palette=sns.color_palette('pastel'))\n",
        "plt.title('Distribution of Food and Beverage Ratings')\n",
        "plt.xlabel('Rating')\n",
        "plt.ylabel('Count')\n",
        "plt.show()"
      ],
      "metadata": {
        "id": "bp-_ORIeCit1"
      },
      "execution_count": null,
      "outputs": []
    },
    {
      "cell_type": "markdown",
      "source": [
        "##### 1. Why did you pick the specific chart?"
      ],
      "metadata": {
        "id": "jj7wYXLtphqO"
      }
    },
    {
      "cell_type": "markdown",
      "source": [
        "Answer : Histograms are useful because they provide a visual representation of the distribution of data. They allow us to quickly grasp the shape, center, and spread of a dataset, enabling insights into its underlying patterns and trends."
      ],
      "metadata": {
        "id": "Ob8u6rCTphqO"
      }
    },
    {
      "cell_type": "markdown",
      "source": [
        "##### 2. What is/are the insight(s) found from the chart?"
      ],
      "metadata": {
        "id": "eZrbJ2SmphqO"
      }
    },
    {
      "cell_type": "markdown",
      "source": [
        "Answer : From above histplot we can see that 1 rating has maximum frequency followed by 4."
      ],
      "metadata": {
        "id": "mZtgC_hjphqO"
      }
    },
    {
      "cell_type": "markdown",
      "source": [
        "##### 3. Will the gained insights help creating a positive business impact?\n",
        "Are there any insights that lead to negative growth? Justify with specific reason."
      ],
      "metadata": {
        "id": "rFu4xreNphqO"
      }
    },
    {
      "cell_type": "markdown",
      "source": [
        "Answer : Above insight will has negative impact on business. therefore airline company must have improve food_bev quality and distribution."
      ],
      "metadata": {
        "id": "ey_0qi68phqO"
      }
    },
    {
      "cell_type": "markdown",
      "source": [
        "#### Chart - 8 : What is the most common 'ground_service' rating?\n"
      ],
      "metadata": {
        "id": "YJ55k-q6phqO"
      }
    },
    {
      "cell_type": "code",
      "source": [
        "# calculate ground service rating\n",
        "ground_service_ratings = airline_df['ground_service'].value_counts()\n",
        "print(ground_service_ratings)"
      ],
      "metadata": {
        "id": "B2aS4O1ophqO"
      },
      "execution_count": null,
      "outputs": []
    },
    {
      "cell_type": "code",
      "source": [
        "# create barplot\n",
        "plt.figure(figsize=(8, 4))\n",
        "sns.barplot(x=ground_service_ratings.index, y=ground_service_ratings, palette=sns.color_palette('pastel'))\n",
        "plt.title('Most Common Ground Service Rating')\n",
        "plt.xlabel('Rating')\n",
        "plt.ylabel('Count')\n",
        "plt.show()"
      ],
      "metadata": {
        "id": "6d9Z3ruMGgg4"
      },
      "execution_count": null,
      "outputs": []
    },
    {
      "cell_type": "markdown",
      "source": [
        "##### 1. Why did you pick the specific chart?"
      ],
      "metadata": {
        "id": "gCFgpxoyphqP"
      }
    },
    {
      "cell_type": "markdown",
      "source": [
        "Answer : I used barplot because bar plot is useful for visualization because it effectively compares the quantities of different categories, making it easy to see differences and trends across groups."
      ],
      "metadata": {
        "id": "TVxDimi2phqP"
      }
    },
    {
      "cell_type": "markdown",
      "source": [
        "##### 2. What is/are the insight(s) found from the chart?"
      ],
      "metadata": {
        "id": "OVtJsKN_phqQ"
      }
    },
    {
      "cell_type": "markdown",
      "source": [
        "Answer : From above plot we can see that 1 rating has highest rating."
      ],
      "metadata": {
        "id": "ngGi97qjphqQ"
      }
    },
    {
      "cell_type": "markdown",
      "source": [
        "##### 3. Will the gained insights help creating a positive business impact?\n",
        "Are there any insights that lead to negative growth? Justify with specific reason."
      ],
      "metadata": {
        "id": "lssrdh5qphqQ"
      }
    },
    {
      "cell_type": "markdown",
      "source": [
        "Answer : The insight that 1 rating has the highest frequency suggests potential issues with customer satisfaction or product quality, impacting business reputation and customer retention negatively. Identifying and addressing the root causes behind these low ratings could lead to significant improvements in customer experience and ultimately drive positive business impact."
      ],
      "metadata": {
        "id": "tBpY5ekJphqQ"
      }
    },
    {
      "cell_type": "markdown",
      "source": [
        "#### Chart - 9 : What is the most common 'seat_comfort' rating?\n"
      ],
      "metadata": {
        "id": "U2RJ9gkRphqQ"
      }
    },
    {
      "cell_type": "code",
      "source": [
        "# Calculate seat comfort rating\n",
        "seat_comfort_ratings = airline_df['seat_comfort'].value_counts()\n",
        "print(seat_comfort_ratings)"
      ],
      "metadata": {
        "id": "GM7a4YP4phqQ"
      },
      "execution_count": null,
      "outputs": []
    },
    {
      "cell_type": "code",
      "source": [
        "# Creat barplot\n",
        "plt.figure(figsize=(8, 4))\n",
        "sns.barplot(x=seat_comfort_ratings.index, y=seat_comfort_ratings, palette=sns.color_palette('pastel'))\n",
        "plt.title('Most Common Seat Comfort Rating')\n",
        "plt.xlabel('Rating')\n",
        "plt.ylabel('Count')\n",
        "plt.show()"
      ],
      "metadata": {
        "id": "Bp7HLnFkphws"
      },
      "execution_count": null,
      "outputs": []
    },
    {
      "cell_type": "markdown",
      "source": [
        "##### 1. Why did you pick the specific chart?"
      ],
      "metadata": {
        "id": "1M8mcRywphqQ"
      }
    },
    {
      "cell_type": "markdown",
      "source": [
        "Answer : I used barplot because bar plot is useful for visualization because it effectively compares the quantities of different categories, making it easy to see differences and trends across groups."
      ],
      "metadata": {
        "id": "8agQvks0phqQ"
      }
    },
    {
      "cell_type": "markdown",
      "source": [
        "##### 2. What is/are the insight(s) found from the chart?"
      ],
      "metadata": {
        "id": "tgIPom80phqQ"
      }
    },
    {
      "cell_type": "markdown",
      "source": [
        "Answer : The graph shows that the distribution of seat comfort ratings, with a 1 rating being the most common. This suggest dissatisfaction with seat confrort among a large portion of users."
      ],
      "metadata": {
        "id": "Qp13pnNzphqQ"
      }
    },
    {
      "cell_type": "markdown",
      "source": [
        "##### 3. Will the gained insights help creating a positive business impact?\n",
        "Are there any insights that lead to negative growth? Justify with specific reason."
      ],
      "metadata": {
        "id": "JMzcOPDDphqR"
      }
    },
    {
      "cell_type": "markdown",
      "source": [
        "Answer : This insight will has negative impact on the business. Therefore solution for that is to improve customer seat comfort. Resolve the issues take feedbacks from the customer and according to feedback do changes in services."
      ],
      "metadata": {
        "id": "R4Ka1PC2phqR"
      }
    },
    {
      "cell_type": "markdown",
      "source": [
        "#### Chart - 10 : What is the most common 'value_for_money' rating?\n"
      ],
      "metadata": {
        "id": "x-EpHcCOp1ci"
      }
    },
    {
      "cell_type": "code",
      "source": [
        "# Calculate value for money rating\n",
        "value_for_money_ratings = airline_df['value_for_money'].value_counts()\n",
        "print(value_for_money_ratings)"
      ],
      "metadata": {
        "id": "mAQTIvtqp1cj"
      },
      "execution_count": null,
      "outputs": []
    },
    {
      "cell_type": "code",
      "source": [
        "# Create barplot\n",
        "plt.figure(figsize=(8, 4))\n",
        "sns.barplot(x=value_for_money_ratings.index, y=value_for_money_ratings, palette=sns.color_palette('pastel'))\n",
        "plt.title('Most Common Value for Money Rating')\n",
        "plt.xlabel('Rating')\n",
        "plt.ylabel('Count')\n",
        "plt.show()"
      ],
      "metadata": {
        "id": "yP4CN2GQrRrE"
      },
      "execution_count": null,
      "outputs": []
    },
    {
      "cell_type": "markdown",
      "source": [
        "##### 1. Why did you pick the specific chart?"
      ],
      "metadata": {
        "id": "X_VqEhTip1ck"
      }
    },
    {
      "cell_type": "markdown",
      "source": [
        "Answer : Barplot is easy to understand."
      ],
      "metadata": {
        "id": "-vsMzt_np1ck"
      }
    },
    {
      "cell_type": "markdown",
      "source": [
        "##### 2. What is/are the insight(s) found from the chart?"
      ],
      "metadata": {
        "id": "8zGJKyg5p1ck"
      }
    },
    {
      "cell_type": "markdown",
      "source": [
        "Answer : The graph shows that the most common rating is 1"
      ],
      "metadata": {
        "id": "ZYdMsrqVp1ck"
      }
    },
    {
      "cell_type": "markdown",
      "source": [
        "##### 3. Will the gained insights help creating a positive business impact?\n",
        "Are there any insights that lead to negative growth? Justify with specific reason."
      ],
      "metadata": {
        "id": "PVzmfK_Ep1ck"
      }
    },
    {
      "cell_type": "markdown",
      "source": [
        "Answer : this insight will have negative impact. solution for that is to improve all tge services which have lower ratings."
      ],
      "metadata": {
        "id": "druuKYZpp1ck"
      }
    },
    {
      "cell_type": "markdown",
      "source": [
        "#### Chart - 11 : Comparison of all independent variable/features?"
      ],
      "metadata": {
        "id": "bnSxZLeh79LV"
      }
    },
    {
      "cell_type": "code",
      "source": [
        "# compairing independent variable\n",
        "airline_df.hist(bins=50, figsize=(20,15),color = 'red')\n",
        "plt.show()"
      ],
      "metadata": {
        "id": "8lG82FOu7zgB"
      },
      "execution_count": null,
      "outputs": []
    },
    {
      "cell_type": "markdown",
      "source": [
        "* The overall feature ratings of 1 to 2 occur more frequently. From Seat comfort feature, We can say that rating of 1 is highest and rating of 4 is the second highest.\n",
        "\n",
        "* From cabin service feature, We can say that rating of 5 is highest and rating of 1 is the second highest.\n",
        "\n",
        "* The food bev feature ratings of 2,4 and 5 are varies equally.Which means their frequency are approximately equal.\n",
        "\n",
        "* The features of both the entertainment & ground service, We can say that ratings of 3 is highest and ratings of 1 is the second highest.\n",
        "\n",
        "* From value for money feature, It clearly shows that most of the passenger gives ratings of 1 as highest. From this we can say that most of the airline does not provide good service to passenger."
      ],
      "metadata": {
        "id": "n5aORA4b9F0J"
      }
    },
    {
      "cell_type": "markdown",
      "source": [
        "## **Dropping Unnecessary Columns**"
      ],
      "metadata": {
        "id": "6nfz5D619SBK"
      }
    },
    {
      "cell_type": "code",
      "source": [
        "#Checking Percentage wise missing values.\n",
        "def missing_values_table(df):\n",
        "        # Total missing values\n",
        "        percent_mis_val = df.isnull().sum()*100/len(airline_df)\n",
        "        missing_values_df = pd.DataFrame({'column_name': airline_df.columns,\n",
        "                                     'percent_mis_val': percent_mis_val})\n",
        "        return missing_values_df.sort_values('percent_mis_val',ascending=False)"
      ],
      "metadata": {
        "id": "zTbMASNl9Rrp"
      },
      "execution_count": null,
      "outputs": []
    },
    {
      "cell_type": "code",
      "source": [
        "missing_values_table(airline_df)"
      ],
      "metadata": {
        "id": "NrSuRx8N-p6k"
      },
      "execution_count": null,
      "outputs": []
    },
    {
      "cell_type": "code",
      "source": [
        "# showing the unique aircraft names\n",
        "airline_df['aircraft'].unique()"
      ],
      "metadata": {
        "id": "KG5dLXiU_BZi"
      },
      "execution_count": null,
      "outputs": []
    },
    {
      "cell_type": "code",
      "source": [
        "# checking number of unique aircraft\n",
        "airline_df['aircraft'].nunique()"
      ],
      "metadata": {
        "id": "c4ofFwew_Ik_"
      },
      "execution_count": null,
      "outputs": []
    },
    {
      "cell_type": "markdown",
      "source": [
        "Drop aircraft column from the dataset"
      ],
      "metadata": {
        "id": "nk_u-Py4_XXD"
      }
    },
    {
      "cell_type": "code",
      "source": [
        "# dropping column\n",
        "airline_df.drop('aircraft', axis=1, inplace=True)"
      ],
      "metadata": {
        "id": "XcGy4c4J_QMr"
      },
      "execution_count": null,
      "outputs": []
    },
    {
      "cell_type": "code",
      "source": [
        "airline_df = airline_df.drop(['author','review_date','route','date_flown','customer_review'],axis = 1)"
      ],
      "metadata": {
        "id": "upG3EdUxDiTq"
      },
      "execution_count": null,
      "outputs": []
    },
    {
      "cell_type": "code",
      "source": [
        "airline_df.columns"
      ],
      "metadata": {
        "id": "Hp9oiXRv_fS5"
      },
      "execution_count": null,
      "outputs": []
    },
    {
      "cell_type": "markdown",
      "source": [
        "Columns which must have drop from dataset:\n",
        "\n",
        "1. **Author**: This categorical column has high variability and is not required for prediction.\n",
        "2. **Route**: This column is not needed for building the model as it is independent of the services and quality of travel.\n",
        "3. **Date_flown**: This column is not needed for building the model because it is not a time series data, and there are overlapping time periods between different dates.\n",
        "4. **Review_date**: Similar to `Date_flown`, this column is not needed for the model.\n",
        "5. **Customer_review**: This column is closely related to the overall review feature of the dataset and is therefore redundant."
      ],
      "metadata": {
        "id": "dwBmr_5qCkAZ"
      }
    },
    {
      "cell_type": "markdown",
      "source": [
        "Based on the percentage of null values, we divide our data into two parts:\n",
        "\n",
        "- **high_null**: Columns with a high percentage of null values.\n",
        "- **low_null**: Columns with a low percentage of null values."
      ],
      "metadata": {
        "id": "xi_pn8NODOoV"
      }
    },
    {
      "cell_type": "code",
      "source": [
        "# split the numeric column\n",
        "high_null = ['overall','seat_comfort','cabin_service','value_for_money']\n",
        "low_null = ['food_bev','entertainment','ground_service']"
      ],
      "metadata": {
        "id": "Cn8YncnaCRWb"
      },
      "execution_count": null,
      "outputs": []
    },
    {
      "cell_type": "code",
      "source": [
        "#Imputation technique using Quantile-1 value\n",
        "def impute_by_q1_values(df,column):\n",
        "  Q1=np.percentile(np.sort(df[column].dropna()),25)\n",
        "  df[column].fillna(Q1,inplace=True)"
      ],
      "metadata": {
        "id": "Up9wKtH3IKn3"
      },
      "execution_count": null,
      "outputs": []
    },
    {
      "cell_type": "code",
      "source": [
        "#Looping the null value column\n",
        "for col in low_null:\n",
        "  impute_by_q1_values(airline_df,col)"
      ],
      "metadata": {
        "id": "W6obA14uJDNJ"
      },
      "execution_count": null,
      "outputs": []
    },
    {
      "cell_type": "code",
      "source": [
        "#Imputation technique using Median Imputation\n",
        "def median_imputation(df,column):\n",
        "  df[column].fillna(df[column].median(),inplace=True)"
      ],
      "metadata": {
        "id": "GlwBonI-KntB"
      },
      "execution_count": null,
      "outputs": []
    },
    {
      "cell_type": "code",
      "source": [
        "#Looping the null value column\n",
        "for col in high_null:\n",
        "  median_imputation(airline_df,col)"
      ],
      "metadata": {
        "id": "b7a9euYOKyTj"
      },
      "execution_count": null,
      "outputs": []
    },
    {
      "cell_type": "code",
      "source": [
        "airline_df.head(1)"
      ],
      "metadata": {
        "id": "thUB3AcOK6kK"
      },
      "execution_count": null,
      "outputs": []
    },
    {
      "cell_type": "code",
      "source": [
        "#Remove recommended null value row\n",
        "airline_df.dropna(subset=['recommended'],inplace=True)"
      ],
      "metadata": {
        "id": "hSPzq6sgLRmZ"
      },
      "execution_count": null,
      "outputs": []
    },
    {
      "cell_type": "code",
      "source": [
        "airline_df['traveller_type'].fillna(airline_df['traveller_type'].mode()[0], inplace=True)"
      ],
      "metadata": {
        "id": "Vc33Uz7DN72i"
      },
      "execution_count": null,
      "outputs": []
    },
    {
      "cell_type": "code",
      "source": [
        "airline_df['cabin'].fillna(airline_df['cabin'].mode().values[0], inplace=True)"
      ],
      "metadata": {
        "id": "77ndXbdDPx8e"
      },
      "execution_count": null,
      "outputs": []
    },
    {
      "cell_type": "code",
      "source": [
        "airline_df.head(1)"
      ],
      "metadata": {
        "id": "26bygsiHQJOF"
      },
      "execution_count": null,
      "outputs": []
    },
    {
      "cell_type": "code",
      "source": [
        "# check null values\n",
        "missing_values_table(airline_df)"
      ],
      "metadata": {
        "id": "rQpsEtYTP935"
      },
      "execution_count": null,
      "outputs": []
    },
    {
      "cell_type": "code",
      "source": [
        "airline_df.shape"
      ],
      "metadata": {
        "id": "ywbwQcHbR3kB"
      },
      "execution_count": null,
      "outputs": []
    },
    {
      "cell_type": "markdown",
      "source": [
        "## ***Feature Engineering & Data Pre-processing***"
      ],
      "metadata": {
        "id": "yLjJCtPM0KBk"
      }
    },
    {
      "cell_type": "markdown",
      "source": [
        "### 1. Handling Missing Values"
      ],
      "metadata": {
        "id": "xiyOF9F70UgQ"
      }
    },
    {
      "cell_type": "code",
      "source": [
        "# Handling Missing Values & Missing Value Imputation\n",
        "missing_values_table(airline_df)"
      ],
      "metadata": {
        "id": "iRsAHk1K0fpS"
      },
      "execution_count": null,
      "outputs": []
    },
    {
      "cell_type": "markdown",
      "source": [
        "### 2. Handling Outliers"
      ],
      "metadata": {
        "id": "id1riN9m0vUs"
      }
    },
    {
      "cell_type": "code",
      "source": [
        "# Handling Outliers & Outlier treatments\n",
        "outlier_columns = list(set(airline_df.describe().columns) - {'recommended'})\n",
        "outlier_columns"
      ],
      "metadata": {
        "id": "M6w2CzZf04JK"
      },
      "execution_count": null,
      "outputs": []
    },
    {
      "cell_type": "code",
      "source": [
        "# Create boxplot\n",
        "plt.figure(figsize=(10, 6))\n",
        "for index, column in enumerate(outlier_columns):\n",
        "    plt.subplot(3, 3, index+1)\n",
        "    sns.boxplot(airline_df[column], orient='h')\n",
        "    plt.title(column)\n",
        "plt.tight_layout()\n",
        "plt.show()"
      ],
      "metadata": {
        "id": "9nsEc1N1cCy6"
      },
      "execution_count": null,
      "outputs": []
    },
    {
      "cell_type": "markdown",
      "source": [
        "There is no any outliers in the dataset."
      ],
      "metadata": {
        "id": "uGZz5OrT1HH-"
      }
    },
    {
      "cell_type": "markdown",
      "source": [
        "### 3. Categorical Encoding"
      ],
      "metadata": {
        "id": "89xtkJwZ18nB"
      }
    },
    {
      "cell_type": "code",
      "source": [
        "# Encode your categorical columns\n",
        "#converting targeted column\n",
        "airline_df['recommended'].replace({'yes':1,'no':0},inplace=True)"
      ],
      "metadata": {
        "id": "21JmIYMG2hEo"
      },
      "execution_count": null,
      "outputs": []
    },
    {
      "cell_type": "code",
      "source": [
        "airline_df.head(1)"
      ],
      "metadata": {
        "id": "I3HBKYt1dvKQ"
      },
      "execution_count": null,
      "outputs": []
    },
    {
      "cell_type": "code",
      "source": [
        "airline_df.columns"
      ],
      "metadata": {
        "id": "IsT9_r2Led9M"
      },
      "execution_count": null,
      "outputs": []
    },
    {
      "cell_type": "code",
      "source": [
        "# select only numeric columns\n",
        "numeric_columns = airline_df.select_dtypes(include=[np.number]).columns\n",
        "numeric_columns"
      ],
      "metadata": {
        "id": "7-arJqRIco5v"
      },
      "execution_count": null,
      "outputs": []
    },
    {
      "cell_type": "code",
      "source": [
        "# plot heatmap\n",
        "plt.figure(figsize=(8, 4))\n",
        "sns.heatmap(airline_df[numeric_columns].corr(), annot=True, cmap='coolwarm')\n",
        "plt.title('Correlation Heatmap')\n",
        "plt.show()"
      ],
      "metadata": {
        "id": "Vijh0gUgfXe5"
      },
      "execution_count": null,
      "outputs": []
    },
    {
      "cell_type": "markdown",
      "source": [
        "From the above heatmap we have following insights:\n",
        "\n",
        "* Overall column is strongly correlated with the recommendation.\n",
        "* Value for Money is highly correlated with recommendations (0.84), indicating that customers who perceive good value are more likely to recommend the service.\n",
        "* Cabine services is positively correlated with recommendattion.\n",
        "Seat confort shows a notable correlation with recommendation.\n",
        "* food and Beverage is moderatly correlated with recommendation.\n",
        "* entertainment and ground service is weakly correlated with recommendation."
      ],
      "metadata": {
        "id": "H-2dCSPig5zO"
      }
    },
    {
      "cell_type": "markdown",
      "source": [
        "# Check Multicollinearity"
      ],
      "metadata": {
        "id": "_kCfzvLNihE_"
      }
    },
    {
      "cell_type": "code",
      "source": [
        "#Creating a function to remove multicollinear\n",
        "def calc_vif(X):\n",
        "\n",
        "   # Calculating VIF\n",
        "   vif = pd.DataFrame()\n",
        "   vif[\"variables\"] = X.columns\n",
        "   vif[\"VIF\"] = [variance_inflation_factor(X.values, i) for i in range(X.shape[1])]\n",
        "\n",
        "   return(vif)"
      ],
      "metadata": {
        "id": "kievuJ8YyUiu"
      },
      "execution_count": null,
      "outputs": []
    },
    {
      "cell_type": "code",
      "source": [
        "calc_vif(airline_df[[i for i in airline_df.describe().columns if i not in ['recommended','value_for_money','overall']]])"
      ],
      "metadata": {
        "id": "EpHMrF6wyXVH"
      },
      "execution_count": null,
      "outputs": []
    },
    {
      "cell_type": "code",
      "source": [
        "#drop overall column\n",
        "airline_df.drop([\"overall\"], axis = 1, inplace = True)"
      ],
      "metadata": {
        "id": "XgqCCojyybdW"
      },
      "execution_count": null,
      "outputs": []
    },
    {
      "cell_type": "code",
      "source": [
        "airline_df.drop([\"airline\"], axis = 1, inplace = True)"
      ],
      "metadata": {
        "id": "tjB1YyqOyceJ"
      },
      "execution_count": null,
      "outputs": []
    },
    {
      "cell_type": "markdown",
      "source": [
        "Airline column dropped because that column does not have any use further."
      ],
      "metadata": {
        "id": "jx52OJvAu9gq"
      }
    },
    {
      "cell_type": "markdown",
      "source": [
        "# Define dependent and independent variables"
      ],
      "metadata": {
        "id": "vS_pnHjuyfc_"
      }
    },
    {
      "cell_type": "code",
      "source": [
        "# dependent and independent variables\n",
        "X = airline_df.drop('recommended', axis=1)\n",
        "y = airline_df['recommended']"
      ],
      "metadata": {
        "id": "zfXeno3NykQ7"
      },
      "execution_count": null,
      "outputs": []
    },
    {
      "cell_type": "code",
      "source": [
        "X.head()"
      ],
      "metadata": {
        "id": "L_mYoVJIyphs"
      },
      "execution_count": null,
      "outputs": []
    },
    {
      "cell_type": "code",
      "source": [
        "y.head()"
      ],
      "metadata": {
        "id": "3zn166Q9y70-"
      },
      "execution_count": null,
      "outputs": []
    },
    {
      "cell_type": "markdown",
      "source": [
        "# One hot encoding"
      ],
      "metadata": {
        "id": "D-3vkruTzCdh"
      }
    },
    {
      "cell_type": "code",
      "source": [
        "X = pd.get_dummies(X, drop_first=True)"
      ],
      "metadata": {
        "id": "3trLUlP4zB5Q"
      },
      "execution_count": null,
      "outputs": []
    },
    {
      "cell_type": "code",
      "source": [
        "X.head()"
      ],
      "metadata": {
        "id": "J3dfpAVtzJJ7"
      },
      "execution_count": null,
      "outputs": []
    },
    {
      "cell_type": "code",
      "source": [
        "print(\"The Percentage of No labels of Target Variable is\",np.round(y.value_counts()[0]/len(y)*100))\n",
        "print(\"The Percentage of Yes labels of Target Variable is\",np.round(y.value_counts()[1]/len(y)*100))"
      ],
      "metadata": {
        "id": "5fMkcuOJzZBh"
      },
      "execution_count": null,
      "outputs": []
    },
    {
      "cell_type": "markdown",
      "source": [
        "# Data Splitting"
      ],
      "metadata": {
        "id": "oeGWCQ-ArUU8"
      }
    },
    {
      "cell_type": "code",
      "source": [
        "# Split your data to train and test. Choose Splitting ratio wisely.\n",
        "from sklearn.model_selection import train_test_split\n",
        "X_train, X_test, y_train, y_test = train_test_split(X, y, test_size=0.2, random_state=42)"
      ],
      "metadata": {
        "id": "0CTyd2UwEyNM"
      },
      "execution_count": null,
      "outputs": []
    },
    {
      "cell_type": "code",
      "source": [
        "print(X_train.shape)\n",
        "print(X_test.shape)\n",
        "print(y_train.shape)\n",
        "print(y_test.shape)"
      ],
      "metadata": {
        "id": "4V858vPLzzzq"
      },
      "execution_count": null,
      "outputs": []
    },
    {
      "cell_type": "markdown",
      "source": [
        "## ***ML Model Implementation***\n",
        "\n",
        "In this project I am going to implement following algorithms:\n",
        "1. Logistic Regression\n",
        "2. Decision Tree\n",
        "3. Random Forest Regression\n",
        "4. SVM\n",
        "5. KNN\n",
        "6. Naive Bayes Classifier\n"
      ],
      "metadata": {
        "id": "VfCC591jGiD4"
      }
    },
    {
      "cell_type": "markdown",
      "source": [
        "### ML Model - 1 : Logistic Regression"
      ],
      "metadata": {
        "id": "OB4l2ZhMeS1U"
      }
    },
    {
      "cell_type": "code",
      "source": [
        "# Initiate logistic regression\n",
        "log_reg = LogisticRegression()"
      ],
      "metadata": {
        "id": "YbLMnpWreC52"
      },
      "execution_count": null,
      "outputs": []
    },
    {
      "cell_type": "code",
      "source": [
        "log_reg.fit(X_train,y_train)"
      ],
      "metadata": {
        "id": "JtUcqfl3PTI_"
      },
      "execution_count": null,
      "outputs": []
    },
    {
      "cell_type": "code",
      "source": [
        "y_pred_log = log_reg.predict(X_test)\n",
        "print(y_pred_log)"
      ],
      "metadata": {
        "id": "m6StA8GYRiz6"
      },
      "execution_count": null,
      "outputs": []
    },
    {
      "cell_type": "code",
      "source": [
        "# logistic regression report\n",
        "report_log_reg = classification_report(y_test,y_pred_log)\n",
        "print(report_log_reg)"
      ],
      "metadata": {
        "id": "Or7pKa-lRaot"
      },
      "execution_count": null,
      "outputs": []
    },
    {
      "cell_type": "code",
      "source": [
        "# confusion matrix\n",
        "confusion_matrix_log = confusion_matrix(y_test,y_pred_log)\n",
        "print(confusion_matrix_log)"
      ],
      "metadata": {
        "id": "WPuk6y-tRxlA"
      },
      "execution_count": null,
      "outputs": []
    },
    {
      "cell_type": "code",
      "source": [
        "# plot heatmap\n",
        "plt.figure(figsize=(8, 6))\n",
        "sns.heatmap(confusion_matrix_log, annot=True, fmt='d', cmap='viridis')\n",
        "plt.title('Confusion Matrix')\n",
        "plt.xlabel('Predicted')\n",
        "plt.ylabel('Actual')\n",
        "plt.show()"
      ],
      "metadata": {
        "id": "JfRgTeqVR9wu"
      },
      "execution_count": null,
      "outputs": []
    },
    {
      "cell_type": "markdown",
      "source": [
        "# Cross-Validation"
      ],
      "metadata": {
        "id": "ASUmpx_xSK_b"
      }
    },
    {
      "cell_type": "code",
      "source": [
        "logistic = LogisticRegression()"
      ],
      "metadata": {
        "id": "0rpLtcN6SKrH"
      },
      "execution_count": null,
      "outputs": []
    },
    {
      "cell_type": "code",
      "source": [
        "scores = cross_val_score(logistic, X, y, cv=5)\n",
        "print(scores)"
      ],
      "metadata": {
        "id": "Ej1hGTHs0BcG"
      },
      "execution_count": null,
      "outputs": []
    },
    {
      "cell_type": "code",
      "source": [
        "scores = pd.Series(scores)\n",
        "print(scores.mean(), scores.std(), scores.min(), scores.max())"
      ],
      "metadata": {
        "id": "a8tGUFIuShwG"
      },
      "execution_count": null,
      "outputs": []
    },
    {
      "cell_type": "markdown",
      "source": [
        "#### 1. Explain the ML Model used and it's performance using Evaluation metric Score Chart."
      ],
      "metadata": {
        "id": "ArJBuiUVfxKd"
      }
    },
    {
      "cell_type": "markdown",
      "source": [
        "Here I used logistic regression. This ML model is used for binary classification where we use sigmoid function, that takes input as independent variable and produces a probablity value between 0 and 1.\n",
        "\n",
        "we can see that accuracy score of this model is 93%."
      ],
      "metadata": {
        "id": "LbJJ-ZjV1Rv_"
      }
    },
    {
      "cell_type": "markdown",
      "source": [
        "### ML Model - 2 : Decision Tree"
      ],
      "metadata": {
        "id": "dJ2tPlVmpsJ0"
      }
    },
    {
      "cell_type": "markdown",
      "source": [
        "#### 1. Explain the ML Model used and it's performance using Evaluation metric Score Chart."
      ],
      "metadata": {
        "id": "JWYfwnehpsJ1"
      }
    },
    {
      "cell_type": "code",
      "source": [
        "# Initiate decision tree model\n",
        "tree_model = DecisionTreeClassifier()"
      ],
      "metadata": {
        "id": "yEl-hgQWpsJ1"
      },
      "execution_count": null,
      "outputs": []
    },
    {
      "cell_type": "code",
      "source": [
        "tree_model.fit(X_train,y_train)"
      ],
      "metadata": {
        "id": "NKdCc6gh2-FD"
      },
      "execution_count": null,
      "outputs": []
    },
    {
      "cell_type": "code",
      "source": [
        "y_pred_tree = tree_model.predict(X_test)\n",
        "print(y_pred_tree)"
      ],
      "metadata": {
        "id": "XOQcadm54wJ1"
      },
      "execution_count": null,
      "outputs": []
    },
    {
      "cell_type": "code",
      "source": [
        "# accuracy\n",
        "accuracy_score_dt = accuracy_score(y_test,y_pred_tree)\n",
        "print(accuracy_score_dt)"
      ],
      "metadata": {
        "id": "LMyxqahq581U"
      },
      "execution_count": null,
      "outputs": []
    },
    {
      "cell_type": "code",
      "source": [
        "print(classification_report(y_test,y_pred_tree))"
      ],
      "metadata": {
        "id": "8k4WRmf96Aq6"
      },
      "execution_count": null,
      "outputs": []
    },
    {
      "cell_type": "markdown",
      "source": [
        "#### 2. Cross- Validation & Hyperparameter Tuning"
      ],
      "metadata": {
        "id": "-jK_YjpMpsJ2"
      }
    },
    {
      "cell_type": "code",
      "source": [
        "# setting the parameters and scoring metric\n",
        "parameter= {'criterion':['gini','entropy'],'splitter':['best','random'],'max_depth':[1,2,3],'min_samples_split':[2,3,4],'min_samples_leaf':[1,2,3]}\n",
        "scoring = ['accuracy', 'precision_weighted', 'recall_weighted', 'f1_weighted']"
      ],
      "metadata": {
        "id": "Dn0EOfS6psJ2"
      },
      "execution_count": null,
      "outputs": []
    },
    {
      "cell_type": "code",
      "source": [
        "#prforming hyperparameter tuning using gridsearchch\n",
        "\n",
        "# setting an estimator and crossvalidation\n",
        "grid_search = GridSearchCV(estimator=tree_model, param_grid=parameter, scoring=scoring, cv=5,refit='accuracy')"
      ],
      "metadata": {
        "id": "p8BKb3LL8c22"
      },
      "execution_count": null,
      "outputs": []
    },
    {
      "cell_type": "code",
      "source": [
        "# fitting x and y to gridsearchcv model using an DT classifier\n",
        "grid_search.fit(X_train,y_train)"
      ],
      "metadata": {
        "collapsed": true,
        "id": "XLsjZxIV863J"
      },
      "execution_count": null,
      "outputs": []
    },
    {
      "cell_type": "code",
      "source": [
        "grid_search.best_params_"
      ],
      "metadata": {
        "collapsed": true,
        "id": "h9MsFh2BAKf9"
      },
      "execution_count": null,
      "outputs": []
    },
    {
      "cell_type": "code",
      "source": [
        "accuracy_score_dt = grid_search.best_score_\n",
        "print(accuracy_score_dt)"
      ],
      "metadata": {
        "id": "WbHx_AQmTY_4"
      },
      "execution_count": null,
      "outputs": []
    },
    {
      "cell_type": "markdown",
      "source": [
        "##### Which hyperparameter optimization technique have you used?"
      ],
      "metadata": {
        "id": "HAih1iBOpsJ2"
      }
    },
    {
      "cell_type": "markdown",
      "source": [
        "Answer : I used gridsearchcv optimization technique."
      ],
      "metadata": {
        "id": "9kBgjYcdpsJ2"
      }
    },
    {
      "cell_type": "markdown",
      "source": [
        "##### Have you seen any improvement? Note down the improvement with updates Evaluation metric Score Chart."
      ],
      "metadata": {
        "id": "zVGeBEFhpsJ2"
      }
    },
    {
      "cell_type": "markdown",
      "source": [
        "Answer : after hypertunning score of matrics increased which is 93% now."
      ],
      "metadata": {
        "id": "74yRdG6UpsJ3"
      }
    },
    {
      "cell_type": "markdown",
      "source": [
        "### ML Model - 3 : Fitting Random forest"
      ],
      "metadata": {
        "id": "Fze-IPXLpx6K"
      }
    },
    {
      "cell_type": "code",
      "source": [
        "# Initiate random forest model\n",
        "rf_model = RandomForestClassifier()"
      ],
      "metadata": {
        "id": "FFrSXAtrpx6M"
      },
      "execution_count": null,
      "outputs": []
    },
    {
      "cell_type": "code",
      "source": [
        "rf_model.fit(X_train,y_train)"
      ],
      "metadata": {
        "id": "HL00-xpYBDU6"
      },
      "execution_count": null,
      "outputs": []
    },
    {
      "cell_type": "code",
      "source": [
        "y_pred_rf = rf_model.predict(X_test)\n",
        "print(y_pred_rf)"
      ],
      "metadata": {
        "id": "w4mbO58KBb7i"
      },
      "execution_count": null,
      "outputs": []
    },
    {
      "cell_type": "code",
      "source": [
        "accuracy_score_random_forest = accuracy_score(y_test,y_pred_rf)\n",
        "print(accuracy_score_random_forest)"
      ],
      "metadata": {
        "id": "x6WA4ybTBkcl"
      },
      "execution_count": null,
      "outputs": []
    },
    {
      "cell_type": "code",
      "source": [
        "print(classification_report(y_test,y_pred_rf))"
      ],
      "metadata": {
        "id": "tlWZIiutBQvT"
      },
      "execution_count": null,
      "outputs": []
    },
    {
      "cell_type": "markdown",
      "source": [
        "#### 1. Explain the ML Model used and it's performance using Evaluation metric Score Chart."
      ],
      "metadata": {
        "id": "7AN1z2sKpx6M"
      }
    },
    {
      "cell_type": "markdown",
      "source": [
        "Random Forest is a classifier that contains a number of decision trees on various subsets of the given dataset and takes the average to improve the predictive accuracy of that dataset.\n",
        "\n",
        "Accuracy score is 92%."
      ],
      "metadata": {
        "id": "UDiq-DtaCAt7"
      }
    },
    {
      "cell_type": "markdown",
      "source": [
        "#### 2. Cross- Validation & Hyperparameter Tuning"
      ],
      "metadata": {
        "id": "9PIHJqyupx6M"
      }
    },
    {
      "cell_type": "code",
      "source": [
        "parameter= {'criterion':['gini','entropy'],'max_depth':[1,2,3],'min_samples_split':[2,3,4,],'min_samples_leaf':[1,2,3]}"
      ],
      "metadata": {
        "id": "P5QTf3t7C2KR"
      },
      "execution_count": null,
      "outputs": []
    },
    {
      "cell_type": "code",
      "source": [
        "rf_model_grid = GridSearchCV(estimator=rf_model, param_grid=parameter, scoring=scoring, cv=5,refit='accuracy',verbose=3)"
      ],
      "metadata": {
        "id": "eSVXuaSKpx6M"
      },
      "execution_count": null,
      "outputs": []
    },
    {
      "cell_type": "code",
      "source": [
        "rf_model_grid.fit(X_train,y_train)"
      ],
      "metadata": {
        "collapsed": true,
        "id": "BW0VofJ1G-Eo"
      },
      "execution_count": null,
      "outputs": []
    },
    {
      "cell_type": "code",
      "source": [
        "rf_model_grid.best_params_"
      ],
      "metadata": {
        "id": "VngF-pC1J9wQ"
      },
      "execution_count": null,
      "outputs": []
    },
    {
      "cell_type": "code",
      "source": [
        "accuracy_score_rf = rf_model_grid.best_score_\n",
        "print(accuracy_score_rf)"
      ],
      "metadata": {
        "id": "ZcpFDxHGKC0x"
      },
      "execution_count": null,
      "outputs": []
    },
    {
      "cell_type": "markdown",
      "source": [
        "After the hypertunning score is now 93%."
      ],
      "metadata": {
        "id": "7osuSo2LKHlP"
      }
    },
    {
      "cell_type": "markdown",
      "source": [
        "### ML Model - 4 : K-Nearest Neighbour"
      ],
      "metadata": {
        "id": "DmQJI6viKVvL"
      }
    },
    {
      "cell_type": "code",
      "source": [
        "# Initializing KNN model\n",
        "knn_model = KNeighborsClassifier()"
      ],
      "metadata": {
        "id": "Apd2Xo1SKiFz"
      },
      "execution_count": null,
      "outputs": []
    },
    {
      "cell_type": "code",
      "source": [
        "knn_model.fit(X_train,y_train)"
      ],
      "metadata": {
        "id": "DvVya0n2KoEJ"
      },
      "execution_count": null,
      "outputs": []
    },
    {
      "cell_type": "code",
      "source": [
        "# predict\n",
        "y_pred_knn = knn_model.predict(X_test)\n",
        "print(y_pred_knn)"
      ],
      "metadata": {
        "id": "GKchNeteLNzm"
      },
      "execution_count": null,
      "outputs": []
    },
    {
      "cell_type": "code",
      "source": [
        "knn_model.score(X_train,y_train)"
      ],
      "metadata": {
        "id": "EhV9YQzgKr1Y"
      },
      "execution_count": null,
      "outputs": []
    },
    {
      "cell_type": "code",
      "source": [
        "accuracy_score_knn = knn_model.score(X_test,y_test)\n",
        "print(accuracy_score_knn)"
      ],
      "metadata": {
        "id": "9Ll5jg4CK4PW"
      },
      "execution_count": null,
      "outputs": []
    },
    {
      "cell_type": "code",
      "source": [
        "# confusion matrix of knn\n",
        "confusion_matrix(y_test,y_pred_knn)"
      ],
      "metadata": {
        "id": "0_kRjknSLDg8"
      },
      "execution_count": null,
      "outputs": []
    },
    {
      "cell_type": "code",
      "source": [
        "# area under roc curve\n",
        "roc_auc_score(y_test,y_pred_knn)"
      ],
      "metadata": {
        "id": "IMNMF191Lac2"
      },
      "execution_count": null,
      "outputs": []
    },
    {
      "cell_type": "markdown",
      "source": [
        "Here we get 92% score."
      ],
      "metadata": {
        "id": "EaVL9wMgLiVR"
      }
    },
    {
      "cell_type": "markdown",
      "source": [
        "### ML Model - 5 : Support Vector Machine"
      ],
      "metadata": {
        "id": "mGZF7zRELms7"
      }
    },
    {
      "cell_type": "code",
      "source": [
        "# Initialize SVM model\n",
        "svm_model = SVC(kernel='linear')"
      ],
      "metadata": {
        "id": "ectuDIcqLt0a"
      },
      "execution_count": null,
      "outputs": []
    },
    {
      "cell_type": "code",
      "source": [
        "svm_model.fit(X_train,y_train)"
      ],
      "metadata": {
        "id": "0zeIoSTnL18J"
      },
      "execution_count": null,
      "outputs": []
    },
    {
      "cell_type": "code",
      "source": [
        "y_pred_svm = svm_model.predict(X_test)\n",
        "print(y_pred_svm)"
      ],
      "metadata": {
        "id": "aeCPAab2MFER"
      },
      "execution_count": null,
      "outputs": []
    },
    {
      "cell_type": "code",
      "source": [
        "accuracy_score_train_svm = svm_model.score(X_train,y_train)\n",
        "print(accuracy_score_train_svm)"
      ],
      "metadata": {
        "id": "VWigDwKMMSDo"
      },
      "execution_count": null,
      "outputs": []
    },
    {
      "cell_type": "code",
      "source": [
        "accuracy_score_test_svm = svm_model.score(X_test,y_test)\n",
        "print(accuracy_score_test_svm)"
      ],
      "metadata": {
        "id": "VaCOLV5YMY_e"
      },
      "execution_count": null,
      "outputs": []
    },
    {
      "cell_type": "code",
      "source": [
        "# confusion metrix\n",
        "confusion_matrix(y_test,y_pred_svm)"
      ],
      "metadata": {
        "id": "2fh_kgyoMgDQ"
      },
      "execution_count": null,
      "outputs": []
    },
    {
      "cell_type": "markdown",
      "source": [
        "Here we get 92% accuracy score."
      ],
      "metadata": {
        "id": "kXmJMUaMMmXB"
      }
    },
    {
      "cell_type": "markdown",
      "source": [
        "### ML Model - 6 : Naive Bayes Classifier"
      ],
      "metadata": {
        "id": "G95YUO78Mywt"
      }
    },
    {
      "cell_type": "code",
      "source": [
        "# Initialize Naive Bayes Classifier\n",
        "nb_model = GaussianNB()"
      ],
      "metadata": {
        "id": "rnbFzExAM8LN"
      },
      "execution_count": null,
      "outputs": []
    },
    {
      "cell_type": "code",
      "source": [
        "nb_model.fit(X_train,y_train)"
      ],
      "metadata": {
        "id": "o4vop2ZXNB5H"
      },
      "execution_count": null,
      "outputs": []
    },
    {
      "cell_type": "code",
      "source": [
        "accuracy_score_train_nb = nb_model.score(X_train,y_train)\n",
        "print(accuracy_score_train_nb)"
      ],
      "metadata": {
        "id": "o7HKP4VaNSzV"
      },
      "execution_count": null,
      "outputs": []
    },
    {
      "cell_type": "code",
      "source": [
        "accoracy_score_test_nb = nb_model.score(X_test, y_test)\n",
        "print(accoracy_score_test_nb)"
      ],
      "metadata": {
        "id": "JFq8U8xNNH97"
      },
      "execution_count": null,
      "outputs": []
    },
    {
      "cell_type": "code",
      "source": [
        "y_pred_nb = nb_model.predict(X_test)\n",
        "print(y_pred_nb)"
      ],
      "metadata": {
        "id": "bmCf-B9-NE1l"
      },
      "execution_count": null,
      "outputs": []
    },
    {
      "cell_type": "code",
      "source": [
        "# comparing actual response values (y_test) with predicted response values (y_pred)\n",
        "from sklearn import metrics\n",
        "print(\"Gaussian Naive Bayes model accuracy(in %):\", metrics.accuracy_score(y_test, y_pred_nb)*100)"
      ],
      "metadata": {
        "id": "z3J_KcY9NeTe"
      },
      "execution_count": null,
      "outputs": []
    },
    {
      "cell_type": "markdown",
      "source": [
        "Here accuracy score is 90%."
      ],
      "metadata": {
        "id": "C5SLFROHNp1G"
      }
    },
    {
      "cell_type": "markdown",
      "source": [
        "# **Accuracy Matrics of All Models**"
      ],
      "metadata": {
        "id": "PTAOPuxSXYxb"
      }
    },
    {
      "cell_type": "code",
      "source": [
        "models=[log_reg,tree_model,rf_model,knn_model,svm_model,nb_model]\n",
        "name=['Logistic Regression Model','Decision Tree Model After Hyperparameter Tuning','Random Forest Model After Hyperparameter Tuning','k_neighbor','support vector','naive bayes']"
      ],
      "metadata": {
        "id": "41GIlHg7N6bB"
      },
      "execution_count": null,
      "outputs": []
    },
    {
      "cell_type": "code",
      "source": [
        "from sklearn.metrics import accuracy_score, precision_score, recall_score, roc_auc_score\n",
        "\n",
        "def accuracy_of_each_model(model, X_train, y_train, X_test, y_test):\n",
        "    # Predicting on train data\n",
        "    y_train_preds = model.predict(X_train)\n",
        "    # Predicting on test data\n",
        "    y_test_preds = model.predict(X_test)\n",
        "\n",
        "    # Storing all training scores\n",
        "    train_scores = []\n",
        "    # Storing all test scores\n",
        "    test_scores = []\n",
        "    metrics = ['Accuracy_Score', 'Precision_Score', 'Recall_Score', 'Roc_Auc_Score']\n",
        "\n",
        "    # Get the accuracy scores\n",
        "    train_accuracy_score = accuracy_score(y_train, y_train_preds)\n",
        "    test_accuracy_score = accuracy_score(y_test, y_test_preds)\n",
        "\n",
        "    train_scores.append(train_accuracy_score)\n",
        "    test_scores.append(test_accuracy_score)\n",
        "\n",
        "    # Get the precision scores\n",
        "    train_precision_score = precision_score(y_train, y_train_preds, average='weighted')\n",
        "    test_precision_score = precision_score(y_test, y_test_preds, average='weighted')\n",
        "\n",
        "    train_scores.append(train_precision_score)\n",
        "    test_scores.append(test_precision_score)\n",
        "\n",
        "    # Get the recall scores\n",
        "    train_recall_score = recall_score(y_train, y_train_preds, average='weighted')\n",
        "    test_recall_score = recall_score(y_test, y_test_preds, average='weighted')\n",
        "\n",
        "    train_scores.append(train_recall_score)\n",
        "    test_scores.append(test_recall_score)\n",
        "\n",
        "    # Get the roc_auc scores\n",
        "    train_roc_auc_score = roc_auc_score(y_train, y_train_preds, average='weighted', multi_class='ovr')\n",
        "    test_roc_auc_score = roc_auc_score(y_test, y_test_preds, average='weighted', multi_class='ovr')\n",
        "\n",
        "    train_scores.append(train_roc_auc_score)\n",
        "    test_scores.append(test_roc_auc_score)\n",
        "\n",
        "    return train_scores, test_scores, metrics\n"
      ],
      "metadata": {
        "id": "0LBP9vTLW-YM"
      },
      "execution_count": null,
      "outputs": []
    },
    {
      "cell_type": "code",
      "source": [
        "import pandas as pd\n",
        "\n",
        "# Assuming models and name are predefined lists\n",
        "for model_ in range(len(models)):\n",
        "    # Fit the model\n",
        "    models[model_].fit(X_train, y_train)\n",
        "\n",
        "    # Calculate train and test scores and metrics\n",
        "    train_score_, test_score_, metrics_ = accuracy_of_each_model(models[model_], X_train, y_train, X_test, y_test)\n",
        "\n",
        "    # Print the results\n",
        "    print(\"-*-*-\"*3 + f\"{name[model_]}\" + \"-*-*-\"*4)\n",
        "    print(\"\")\n",
        "    print(pd.DataFrame(data={'Metrics': metrics_, 'Train_Score': train_score_, 'Test_Score': test_score_}))\n",
        "    print(\"\")\n"
      ],
      "metadata": {
        "id": "ktoA8lQ9W_Xp"
      },
      "execution_count": null,
      "outputs": []
    },
    {
      "cell_type": "markdown",
      "source": [
        "# **Conclusion**"
      ],
      "metadata": {
        "id": "gCX9965dhzqZ"
      }
    },
    {
      "cell_type": "markdown",
      "source": [
        "Based on ML Model Implementation:\n",
        "\n",
        "* The Logistic Regression model performs well with consistent metrics across accuracy, precision, recall, and ROC AUC. It shows strong performance on the test data.\n",
        "* The Decision Tree model after hyperparameter tuning shows slightly lower performance compared to the Logistic Regression model. It has good accuracy and recall but slightly lower ROC AUC.\n",
        "* The Random Forest model after hyperparameter tuning performs better than the Decision Tree model but slightly worse than the Logistic Regression model. It has strong overall metrics with good precision and recall.\n",
        "* The k-NN model performs well, with metrics comparable to the Logistic Regression model. It shows strong accuracy, precision, recall, and ROC AUC scores.\n",
        "* The SVM model also performs well, with metrics very close to those of the Logistic Regression and k-NN models. It has strong precision and ROC AUC scores.\n",
        "* The Naive Bayes model shows the lowest performance among all the models, with lower accuracy, precision, recall, and ROC AUC scores.\n",
        "* Based on the metrics, the Logistic Regression Model can be considered the best model for this particular dataset, closely followed by the k-Nearest Neighbors (k-NN) and Support Vector Machine (SVM) models. These models exhibit strong and consistent performance across all evaluated metrics.\n",
        "\n",
        "EDA:\n",
        "\n",
        "* The Garuda Indonesia airline is the top most airline which have highest rating.\n",
        "* The solo leisure traveller type has highest ratings and the business traveller type has lowest ratings.\n",
        "* economy class has the highest review count and first calss has the lowest count.\n",
        "* The Anders Pedersen is the top most author who has written highest review.\n",
        "* Dataset has 47.7 % positive reviews and 52.3% negative reviwes.\n",
        "* BKK to LHR is the most common route.\n",
        "* food_bev has maximum 1 rating.\n",
        "* ground_serivce also has maximum 1 rating.\n",
        "* seat comfert rating is also has maximum 1 rating.\n",
        "* value for money has maximum 1 rating.\n",
        "\n",
        "\n",
        "Suggestions:\n",
        "\n",
        "* Airlines must focuse on improving those services which has maximum 1 rating. Take feedback from passangers, do changes according to feedbacks and focus on the weak areas.\n",
        "\n",
        "Challenges during project:\n",
        "\n",
        "* checking and removing multicollinearity.\n",
        "* handelling missing values."
      ],
      "metadata": {
        "id": "Fjb1IsQkh3yE"
      }
    },
    {
      "cell_type": "markdown",
      "source": [
        "### ***Hurrah! You have successfully completed your Machine Learning Capstone Project !!!***"
      ],
      "metadata": {
        "id": "gIfDvo9L0UH2"
      }
    }
  ]
}